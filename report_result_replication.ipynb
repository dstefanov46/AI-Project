{
 "cells": [
  {
   "cell_type": "markdown",
   "metadata": {},
   "source": [
    "## Library importing"
   ]
  },
  {
   "cell_type": "code",
   "execution_count": 1,
   "metadata": {},
   "outputs": [],
   "source": [
    "%run libs.py\n",
    "%run helper_funcs.py\n",
    "%run callback.py"
   ]
  },
  {
   "cell_type": "markdown",
   "metadata": {},
   "source": [
    "## Data preparation"
   ]
  },
  {
   "cell_type": "code",
   "execution_count": 2,
   "metadata": {},
   "outputs": [
    {
     "data": {
      "text/html": [
       "<div>\n",
       "<style scoped>\n",
       "    .dataframe tbody tr th:only-of-type {\n",
       "        vertical-align: middle;\n",
       "    }\n",
       "\n",
       "    .dataframe tbody tr th {\n",
       "        vertical-align: top;\n",
       "    }\n",
       "\n",
       "    .dataframe thead th {\n",
       "        text-align: right;\n",
       "    }\n",
       "</style>\n",
       "<table border=\"1\" class=\"dataframe\">\n",
       "  <thead>\n",
       "    <tr style=\"text-align: right;\">\n",
       "      <th></th>\n",
       "      <th>unix</th>\n",
       "      <th>date</th>\n",
       "      <th>symbol</th>\n",
       "      <th>open</th>\n",
       "      <th>high</th>\n",
       "      <th>low</th>\n",
       "      <th>close</th>\n",
       "      <th>Volume USD</th>\n",
       "      <th>Volume ADA</th>\n",
       "    </tr>\n",
       "  </thead>\n",
       "  <tbody>\n",
       "    <tr>\n",
       "      <th>0</th>\n",
       "      <td>1652400000000</td>\n",
       "      <td>2022-05-13 00:00:00</td>\n",
       "      <td>ADA/USD</td>\n",
       "      <td>0.525175</td>\n",
       "      <td>0.547533</td>\n",
       "      <td>0.520565</td>\n",
       "      <td>0.547533</td>\n",
       "      <td>4842.449232</td>\n",
       "      <td>8844.128714</td>\n",
       "    </tr>\n",
       "    <tr>\n",
       "      <th>1</th>\n",
       "      <td>1652396400000</td>\n",
       "      <td>2022-05-12 23:00:00</td>\n",
       "      <td>ADA/USD</td>\n",
       "      <td>0.513225</td>\n",
       "      <td>0.530541</td>\n",
       "      <td>0.513225</td>\n",
       "      <td>0.525018</td>\n",
       "      <td>7690.348439</td>\n",
       "      <td>14647.783600</td>\n",
       "    </tr>\n",
       "  </tbody>\n",
       "</table>\n",
       "</div>"
      ],
      "text/plain": [
       "            unix                 date   symbol      open      high       low  \\\n",
       "0  1652400000000  2022-05-13 00:00:00  ADA/USD  0.525175  0.547533  0.520565   \n",
       "1  1652396400000  2022-05-12 23:00:00  ADA/USD  0.513225  0.530541  0.513225   \n",
       "\n",
       "      close   Volume USD    Volume ADA  \n",
       "0  0.547533  4842.449232   8844.128714  \n",
       "1  0.525018  7690.348439  14647.783600  "
      ]
     },
     "execution_count": 2,
     "metadata": {},
     "output_type": "execute_result"
    }
   ],
   "source": [
    "cc = 'ADA'\n",
    "df = read_data(cc)\n",
    "df.head(2)"
   ]
  },
  {
   "cell_type": "code",
   "execution_count": 3,
   "metadata": {
    "scrolled": true
   },
   "outputs": [
    {
     "name": "stdout",
     "output_type": "stream",
     "text": [
      "NaNs in our data:\n",
      "\n",
      "unix          0\n",
      "date          0\n",
      "symbol        0\n",
      "open          0\n",
      "high          0\n",
      "low           0\n",
      "close         0\n",
      "Volume USD    0\n",
      "Volume ADA    0\n",
      "dtype: int64\n",
      "\n",
      "The reformatted data:\n",
      "                         Open      High       Low     Close        Volume\n",
      "date                                                                     \n",
      "2022-05-13 00:00:00  0.525175  0.547533  0.520565  0.547533   8844.128714\n",
      "2022-05-12 23:00:00  0.513225  0.530541  0.513225  0.525018  14647.783600\n"
     ]
    }
   ],
   "source": [
    "df = reformat_data(df, cc)"
   ]
  },
  {
   "cell_type": "code",
   "execution_count": 4,
   "metadata": {},
   "outputs": [
    {
     "name": "stdout",
     "output_type": "stream",
     "text": [
      "0.07745951242003343\n",
      "                         Open      High       Low     Close        Volume\n",
      "date                                                                     \n",
      "2022-05-13 00:00:00  0.525175  0.547533  0.520565  0.547533   8844.128714\n",
      "2022-05-12 23:00:00  0.513225  0.530541  0.513225  0.525018  14647.783600\n",
      "32014 34702\n"
     ]
    }
   ],
   "source": [
    "print(((df == 0).sum(axis=1) > 0).sum() / len(df))\n",
    "\n",
    "df_2 = df.copy().loc[(df == 0).sum(axis=1) == 0, :]\n",
    "print(df_2.head(2))\n",
    "print(len(df_2), len(df))"
   ]
  },
  {
   "cell_type": "code",
   "execution_count": 5,
   "metadata": {},
   "outputs": [
    {
     "name": "stdout",
     "output_type": "stream",
     "text": [
      "Length of training data: 24010\n",
      "\n",
      "Length of test data: 8004\n"
     ]
    }
   ],
   "source": [
    "train_df, test_df = prepare_traintest_data(df_2, 3/4)"
   ]
  },
  {
   "cell_type": "markdown",
   "metadata": {},
   "source": [
    "## Trading by random guesses"
   ]
  },
  {
   "cell_type": "code",
   "execution_count": 6,
   "metadata": {},
   "outputs": [
    {
     "data": {
      "text/plain": [
       "array([[0.05933, 0.     ],\n",
       "       [0.0601 , 0.00077]])"
      ]
     },
     "execution_count": 6,
     "metadata": {},
     "output_type": "execute_result"
    }
   ],
   "source": [
    "window_size = 24\n",
    "env = gym.make('stocks-v0', df=test_df, frame_bound=(24, len(test_df)), window_size=window_size)\n",
    "env.signal_features[: 2, :]"
   ]
  },
  {
   "cell_type": "code",
   "execution_count": 7,
   "metadata": {},
   "outputs": [
    {
     "data": {
      "text/plain": [
       "Discrete(2)"
      ]
     },
     "execution_count": 7,
     "metadata": {},
     "output_type": "execute_result"
    }
   ],
   "source": [
    "env.action_space"
   ]
  },
  {
   "cell_type": "code",
   "execution_count": 17,
   "metadata": {},
   "outputs": [
    {
     "name": "stdout",
     "output_type": "stream",
     "text": [
      "info {'total_reward': -0.05702000000000004, 'total_profit': 3.291893018509061e-14, 'position': 1}\n"
     ]
    }
   ],
   "source": [
    "state = env.reset()\n",
    "while True: \n",
    "    action = env.action_space.sample()\n",
    "    n_state, reward, done, info = env.step(action)\n",
    "    if done: \n",
    "        print(\"info\", info)\n",
    "        break"
   ]
  },
  {
   "cell_type": "markdown",
   "metadata": {},
   "source": [
    "## Hyperparameters to test"
   ]
  },
  {
   "cell_type": "code",
   "execution_count": 4,
   "metadata": {},
   "outputs": [],
   "source": [
    "split_ratio = 3 / 4\n",
    "log_dir = 'gym-anytrading/'\n",
    "\n",
    "combs = [[[64], [64]],\n",
    "         [[128], [128]],\n",
    "         [64, [64], [64]]]\n",
    "timestep_vals = [1000, 10000, 100000, 1000000]\n",
    "policies = ['A2C', 'PPO']\n",
    "ccs = ['ADA', 'BTC', 'ETH']\n",
    "window_sizes = [1, 3, 6, 12, 24]\n",
    "\n",
    "hps = [combs, timestep_vals, policies, window_sizes]\n",
    "hp_combs = list(itertools.product(*hps))"
   ]
  },
  {
   "cell_type": "code",
   "execution_count": null,
   "metadata": {
    "scrolled": true
   },
   "outputs": [
    {
     "name": "stdout",
     "output_type": "stream",
     "text": [
      "NaNs in our data:\n",
      "\n",
      "unix          0\n",
      "date          0\n",
      "symbol        0\n",
      "open          0\n",
      "high          0\n",
      "low           0\n",
      "close         0\n",
      "Volume USD    0\n",
      "Volume BTC    0\n",
      "dtype: int64\n",
      "\n",
      "The reformatted data:\n",
      "                         Open     High       Low     Close    Volume\n",
      "date                                                                \n",
      "2022-05-13 00:00:00  32231.07  32640.0  31963.53  32551.64  3.433873\n",
      "2022-05-12 23:00:00  31936.20  32420.0  31936.20  32236.45  5.193502\n",
      "Length of training data: 25998\n",
      "\n",
      "Length of test data: 8666\n",
      "[[64], [64]] 1000 A2C 1\n",
      "performance: {'total_reward': 0.0, 'total_profit': 1.0, 'position': 0}\n",
      "[[64], [64]] 1000 A2C 3\n",
      "performance: {'total_reward': -36.75999999999976, 'total_profit': 0.9038746066159514, 'position': 0}\n",
      "[[64], [64]] 1000 A2C 6\n",
      "performance: {'total_reward': -3063.5699999999997, 'total_profit': 1.2027976649091772, 'position': 1}\n",
      "[[64], [64]] 1000 A2C 12\n",
      "performance: {'total_reward': 0.0, 'total_profit': 1.0, 'position': 0}\n",
      "[[64], [64]] 1000 A2C 24\n",
      "performance: {'total_reward': 0.0, 'total_profit': 1.0, 'position': 0}\n",
      "[[64], [64]] 1000 PPO 1\n",
      "performance: {'total_reward': 515.8100000000081, 'total_profit': 0.00030129753601612, 'position': 1}\n",
      "[[64], [64]] 1000 PPO 3\n",
      "performance: {'total_reward': 0.0, 'total_profit': 1.2127991489361702, 'position': 1}\n",
      "[[64], [64]] 1000 PPO 6\n",
      "performance: {'total_reward': 0.0, 'total_profit': 1.0, 'position': 0}\n",
      "[[64], [64]] 1000 PPO 12\n",
      "performance: {'total_reward': 0.0, 'total_profit': 1.2171220903748916, 'position': 1}\n",
      "[[64], [64]] 1000 PPO 24\n",
      "performance: {'total_reward': 0.0, 'total_profit': 1.0, 'position': 0}\n",
      "[[64], [64]] 10000 A2C 1\n",
      "performance: {'total_reward': -20.11999999999898, 'total_profit': 0.5626169390210725, 'position': 0}\n",
      "[[64], [64]] 10000 A2C 3\n",
      "performance: {'total_reward': -3484.7700000000004, 'total_profit': 1.1076321051697229, 'position': 1}\n",
      "[[64], [64]] 10000 A2C 6\n",
      "performance: {'total_reward': 0.0, 'total_profit': 1.2213625461926672, 'position': 1}\n",
      "[[64], [64]] 10000 A2C 12\n",
      "performance: {'total_reward': 0.0, 'total_profit': 1.2171220903748916, 'position': 1}\n",
      "[[64], [64]] 10000 A2C 24\n",
      "performance: {'total_reward': 0.0, 'total_profit': 1.2006681430033856, 'position': 1}\n",
      "[[64], [64]] 10000 PPO 1\n",
      "performance: {'total_reward': 126.67999999999529, 'total_profit': 0.02928750135694238, 'position': 1}\n",
      "[[64], [64]] 10000 PPO 3\n",
      "performance: {'total_reward': 0.0, 'total_profit': 1.0, 'position': 0}\n",
      "[[64], [64]] 10000 PPO 6\n",
      "performance: {'total_reward': 0.0, 'total_profit': 1.2213625461926672, 'position': 1}\n",
      "[[64], [64]] 10000 PPO 12\n",
      "performance: {'total_reward': -24.080000000000382, 'total_profit': 0.88330728378265, 'position': 0}\n",
      "[[64], [64]] 10000 PPO 24\n",
      "performance: {'total_reward': 0.0, 'total_profit': 1.0, 'position': 0}\n",
      "[[64], [64]] 100000 A2C 1\n",
      "performance: {'total_reward': 0.0, 'total_profit': 1.0, 'position': 0}\n",
      "[[64], [64]] 100000 A2C 3\n",
      "performance: {'total_reward': 0.0, 'total_profit': 1.2127991489361702, 'position': 1}\n",
      "[[64], [64]] 100000 A2C 6\n",
      "performance: {'total_reward': 0.0, 'total_profit': 1.2213625461926672, 'position': 1}\n",
      "[[64], [64]] 100000 A2C 12\n",
      "performance: {'total_reward': 0.0, 'total_profit': 1.0, 'position': 0}\n",
      "[[64], [64]] 100000 A2C 24\n",
      "performance: {'total_reward': 0.0, 'total_profit': 1.2006681430033856, 'position': 1}\n",
      "[[64], [64]] 100000 PPO 1\n",
      "performance: {'total_reward': 0.0, 'total_profit': 1.0, 'position': 0}\n",
      "[[64], [64]] 100000 PPO 3\n",
      "performance: {'total_reward': 0.0, 'total_profit': 1.2127991489361702, 'position': 1}\n",
      "[[64], [64]] 100000 PPO 6\n",
      "performance: {'total_reward': 0.0, 'total_profit': 1.0, 'position': 0}\n",
      "[[64], [64]] 100000 PPO 12\n",
      "performance: {'total_reward': 0.0, 'total_profit': 1.2171220903748916, 'position': 1}\n",
      "[[64], [64]] 100000 PPO 24\n",
      "performance: {'total_reward': 0.0, 'total_profit': 1.0, 'position': 0}\n",
      "[[64], [64]] 1000000 A2C 1\n",
      "performance: {'total_reward': 0.0, 'total_profit': 1.0, 'position': 0}\n",
      "[[64], [64]] 1000000 A2C 3\n"
     ]
    }
   ],
   "source": [
    "for cc in ['BTC', 'ETH']: #ccs:\n",
    "    df = read_data(cc)\n",
    "    df = reformat_data(df, cc)\n",
    "    df_2 = df.copy().loc[(df == 0).sum(axis=1) == 0, :]\n",
    "    \n",
    "    train_df, test_df = prepare_traintest_data(df_2, split_ratio)\n",
    "    \n",
    "    for (comb, timesteps, policy, window_size) in hp_combs:\n",
    "        print(comb, timesteps, policy, window_size)\n",
    "        test_hp_set(cc, train_df, test_df, window_size, log_dir, comb, policy, 0, timesteps)"
   ]
  },
  {
   "cell_type": "code",
   "execution_count": 9,
   "metadata": {},
   "outputs": [],
   "source": []
  }
 ],
 "metadata": {
  "kernelspec": {
   "display_name": "Python 3",
   "language": "python",
   "name": "python3"
  },
  "language_info": {
   "codemirror_mode": {
    "name": "ipython",
    "version": 3
   },
   "file_extension": ".py",
   "mimetype": "text/x-python",
   "name": "python",
   "nbconvert_exporter": "python",
   "pygments_lexer": "ipython3",
   "version": "3.8.3"
  }
 },
 "nbformat": 4,
 "nbformat_minor": 4
}
